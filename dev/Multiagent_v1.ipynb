{
 "cells": [
  {
   "cell_type": "code",
   "execution_count": 1,
   "metadata": {},
   "outputs": [
    {
     "data": {
      "image/png": "[encoded data removed]",
      "text/plain": [
       "<Figure size 432x288 with 1 Axes>"
      ]
     },
     "metadata": {},
     "output_type": "display_data"
    }
   ],
   "source": [
    "%matplotlib inline\n",
    "from IPython.display import display, clear_output\n",
    "import numpy as np\n",
    "import matplotlib.pyplot as plt\n",
    "\n",
    "\n",
    "\n",
    "m = 100\n",
    "n = 100\n",
    "# matrix = np.random.normal(0, 1, size=(m, n))\n",
    "matrix = np.array([\n",
    "    [1,1,1,1,1],\n",
    "    [1,0,0,0,1],\n",
    "    [1,0,0,0,1],\n",
    "    [1,0,1,0,1],\n",
    "    [1,0,1,0,1],\n",
    "    [1,0,0,0,1],\n",
    "    [1,1,1,1,1],\n",
    "])\n",
    "\n",
    "robot_positions = np.array([\n",
    "    [1,1],\n",
    "    [1,2]\n",
    "])\n",
    "\n",
    "\n",
    "\n",
    "fig = plt.figure()\n",
    "ax = fig.add_subplot(111)\n",
    "ax.clear()\n",
    "display(fig)\n",
    "clear_output(wait=True)\n",
    "plt.pause(0.5)\n",
    "\n",
    "for i in range(10):\n",
    "    ax.clear()\n",
    "#     matrix = np.random.normal(0, 1, size=(m, n))\n",
    "#     ax.plot(matrix[i, :])\n",
    "\n",
    "    ax.imshow(matrix, aspect='equal', interpolation='none', origin='lower')\n",
    "    ax.plot(robot_positions[:,0], robot_positions[:,1], 'ro', markersize=15)\n",
    "    ax.set_title(f'Count #{i}')\n",
    "    \n",
    "    clear_output(wait=True)\n",
    "    display(fig)\n",
    "    plt.pause(0.5)"
   ]
  },
  {
   "cell_type": "code",
   "execution_count": 3,
   "metadata": {},
   "outputs": [
    {
     "name": "stdout",
     "output_type": "stream",
     "text": [
      "(7, 5)\n"
     ]
    }
   ],
   "source": [
    "print(matrix.shape)"
   ]
  }
 ],
 "metadata": {
  "kernelspec": {
   "display_name": "Python 3",
   "language": "python",
   "name": "python3"
  },
  "language_info": {
   "codemirror_mode": {
    "name": "ipython",
    "version": 3
   },
   "file_extension": ".py",
   "mimetype": "text/x-python",
   "name": "python",
   "nbconvert_exporter": "python",
   "pygments_lexer": "ipython3",
   "version": "3.7.6"
  }
 },
 "nbformat": 4,
 "nbformat_minor": 4
}
